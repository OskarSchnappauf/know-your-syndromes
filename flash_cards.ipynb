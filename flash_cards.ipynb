{
 "cells": [
  {
   "cell_type": "code",
   "execution_count": null,
   "id": "1685c6e0-8770-40bc-be48-0d212b5bc7df",
   "metadata": {},
   "outputs": [],
   "source": [
    "from docx import Document\n",
    "\n",
    "def is_heading(paragraph):\n",
    "    \"\"\"Checks if a paragraph is a heading.\n",
    "\n",
    "    :param paragraph:\n",
    "    :return:\n",
    "    \"\"\"\n",
    "    if paragraph.style.name=='Heading':\n",
    "        return True\n",
    "\n",
    "\n",
    "def iterate_document_sections(document):\n",
    "    \"\"\"For each headed section, generate a sequence of paragraphs.\n",
    "    Each sequence starts with a headed paragraph, followed by text paragraphs.\n",
    "\n",
    "    :param document: Current Comet Issue\n",
    "    :return: an article\n",
    "    \"\"\"\n",
    "    paragraphs = [document.paragraphs[0]]\n",
    "    for paragraph in document.paragraphs[1:]:\n",
    "        if is_heading(paragraph):\n",
    "            yield paragraphs\n",
    "            paragraphs = [paragraph]\n",
    "            continue\n",
    "        paragraphs.append(paragraph)\n",
    "    yield paragraphs\n",
    "\n",
    "\n",
    "def create_document_from_paragraphs(paragraphs):\n",
    "    \"\"\"Iterates through the paragraphs containing articles and splits them into separate files.\n",
    "\n",
    "    :param paragraphs: Article text\n",
    "    :return: New document with a single article.\n",
    "    \"\"\"\n",
    "    new_doc = Document()\n",
    "    n = 0\n",
    "    for count, words in enumerate(paragraphs):\n",
    "        n += 1\n",
    "        new_content = words.text\n",
    "        new_doc.add_paragraph(new_content)\n",
    "        print (new_content)\n",
    "    #new_doc.save('new' + str(n) + '.docx')\n",
    "    return new_doc\n",
    "    \n",
    "document = docx.Document('/Users/oskar/Python/small_projects/Syndromes_Flash_Cards/Essential genetic syndromes.docx')\n",
    "n = 0\n",
    "for paragraphs in iterate_document_sections(document):\n",
    "    n +=1 \n",
    "    create_document_from_paragraphs(paragraphs).save('separated/new' + str(n) + '.docx')"
   ]
  },
  {
   "cell_type": "code",
   "execution_count": 46,
   "id": "119c55b5-7c0e-4f5c-91ef-abc60a3211aa",
   "metadata": {
    "tags": []
   },
   "outputs": [
    {
     "data": {
      "text/plain": [
       "162"
      ]
     },
     "execution_count": 46,
     "metadata": {},
     "output_type": "execute_result"
    }
   ],
   "source": [
    "from docx import Document\n",
    "import re\n",
    "import pandas as pd\n",
    "import glob\n",
    "syndrome_name = []\n",
    "information_all = []\n",
    "for name in glob.glob('/Users/oskar/Python/small_projects/Syndromes_Flash_Cards/separated/*.docx'):\n",
    "    document = Document(name)\n",
    "    syndrome_name.append(document.paragraphs[0].text)\n",
    "    information = []\n",
    "    for para in document.paragraphs[1:]:\n",
    "        information.append((para.text))\n",
    "    information_all.append(information)\n",
    "len(syndrome_name)"
   ]
  },
  {
   "cell_type": "code",
   "execution_count": null,
   "id": "5b77e9ae-3b6d-411f-ab74-88c697a312b2",
   "metadata": {},
   "outputs": [],
   "source": [
    "syndrome_name.sort()\n",
    "syndrome_name"
   ]
  },
  {
   "cell_type": "code",
   "execution_count": null,
   "id": "4f23c372-1e45-43a3-ba8d-b6a3fecf1ba7",
   "metadata": {},
   "outputs": [],
   "source": [
    "for name, element in zip(syndrome_name,information_final):\n",
    "    print(name, len(element))"
   ]
  },
  {
   "cell_type": "code",
   "execution_count": 61,
   "id": "c1c4ecfa-36e3-4351-9a01-d5374c7d7a81",
   "metadata": {},
   "outputs": [],
   "source": [
    "information_final = []\n",
    "for element in information_all:\n",
    "    information_final.append(re.split('Genetics, |Clinical findings/Dysmorphic features, |Etiology, |Pathogenesis, |Genetic testing/diagnosis, |Others,',', '.join(element)))\n",
    "\n",
    "column_names = ['empty','Genetics','Clinical findings/Dysmorphic features','Etiology', 'Pathogenesis','Genetic testing/diagnosis','Others']\n",
    "df = pd.DataFrame(information_final, columns=column_names)\n",
    "df.drop('empty', axis=1, inplace=True)\n",
    "df['Syndrome name'] = syndrome_name\n",
    "\n",
    "#import figures links\n",
    "df_figures = pd.read_csv('category_wordcloud_figure.csv', sep=';',usecols=['Category','png links','figure'])\n",
    "\n",
    "df_final = pd.concat([df, df_figures], axis=1, join='inner')\n",
    "df_final.to_csv('df_for_app.csv')"
   ]
  }
 ],
 "metadata": {
  "kernelspec": {
   "display_name": "Python 3",
   "language": "python",
   "name": "python3"
  },
  "language_info": {
   "codemirror_mode": {
    "name": "ipython",
    "version": 3
   },
   "file_extension": ".py",
   "mimetype": "text/x-python",
   "name": "python",
   "nbconvert_exporter": "python",
   "pygments_lexer": "ipython3",
   "version": "3.8.8"
  }
 },
 "nbformat": 4,
 "nbformat_minor": 5
}
